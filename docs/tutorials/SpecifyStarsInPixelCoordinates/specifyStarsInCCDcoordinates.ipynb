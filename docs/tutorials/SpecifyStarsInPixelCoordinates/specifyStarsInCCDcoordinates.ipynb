{
 "cells": [
  {
   "cell_type": "markdown",
   "metadata": {},
   "source": [
    "# Specify a star catalog from pixel coordinates"
   ]
  },
  {
   "cell_type": "markdown",
   "metadata": {},
   "source": [
    "## Goal"
   ]
  },
  {
   "cell_type": "markdown",
   "metadata": {},
   "source": [
    "Run PlatoSim for one or more stars that you specify in CCD coordinates instead of equatorial coordinates (RA, Dec). This is especially useful when you want to simulate features at a specific location on the CCD or if you want to supply a grid of stars equally distributed over the PLATO CCDs."
   ]
  },
  {
   "cell_type": "markdown",
   "metadata": {},
   "source": [
    "<img src='CoordinatesTransformations.png'>"
   ]
  },
  {
   "cell_type": "markdown",
   "metadata": {},
   "source": [
    "Methods that we will focus on are imported from referenceFrames.py.\n",
    "\n",
    "* pixelToSkyCoordinates\n",
    "* skyToPixelCoordinates\n",
    "\n",
    "These are convenience methods that combine the above steps in one simple function and take field distortion into account."
   ]
  },
  {
   "cell_type": "markdown",
   "metadata": {},
   "source": [
    "## Set up your environment"
   ]
  },
  {
   "cell_type": "code",
   "execution_count": 103,
   "metadata": {
    "collapsed": true
   },
   "outputs": [],
   "source": [
    "projectDir = \"/Users/rik/Git/PlatoSim3\"\n",
    "workDir = \"/Users/rik/Work/PLATO/Simulations\""
   ]
  },
  {
   "cell_type": "code",
   "execution_count": 104,
   "metadata": {
    "collapsed": false
   },
   "outputs": [],
   "source": [
    "%run -i setupEnvironment.py"
   ]
  },
  {
   "cell_type": "code",
   "execution_count": 105,
   "metadata": {
    "collapsed": false
   },
   "outputs": [],
   "source": [
    "%matplotlib inline\n",
    "\n",
    "%run -i setupMatplotlib.py"
   ]
  },
  {
   "cell_type": "markdown",
   "metadata": {},
   "source": [
    "## Import the relevant modules"
   ]
  },
  {
   "cell_type": "code",
   "execution_count": 178,
   "metadata": {
    "collapsed": true
   },
   "outputs": [],
   "source": [
    "from imp import reload"
   ]
  },
  {
   "cell_type": "code",
   "execution_count": 179,
   "metadata": {
    "collapsed": true
   },
   "outputs": [],
   "source": [
    "import numpy as np"
   ]
  },
  {
   "cell_type": "code",
   "execution_count": 180,
   "metadata": {
    "collapsed": false
   },
   "outputs": [],
   "source": [
    "import simulation\n",
    "reload(simulation)\n",
    "from simulation import Simulation"
   ]
  },
  {
   "cell_type": "code",
   "execution_count": 181,
   "metadata": {
    "collapsed": true
   },
   "outputs": [],
   "source": [
    "import simfile\n",
    "reload(simfile)\n",
    "from simfile import SimFile"
   ]
  },
  {
   "cell_type": "code",
   "execution_count": 182,
   "metadata": {
    "collapsed": false
   },
   "outputs": [],
   "source": [
    "import referenceFrames\n",
    "reload(referenceFrames)\n",
    "from referenceFrames import pixelToSkyCoordinates, skyToPixelCoordinates\n",
    "from referenceFrames import setSubfieldAroundCoordinates, setSubfieldAroundPixelCoordinates\n",
    "from referenceFrames import platformToTelescopePointingCoordinates\n",
    "from referenceFrames import drawCCDsInSky, drawCCDsInFocalPlane\n",
    "from referenceFrames import drawSubfieldInFocalPlane\n",
    "from referenceFrames import drawStarInFocalPlane"
   ]
  },
  {
   "cell_type": "markdown",
   "metadata": {},
   "source": [
    "## Create and configure a Simulation"
   ]
  },
  {
   "cell_type": "code",
   "execution_count": 183,
   "metadata": {
    "collapsed": false,
    "scrolled": true
   },
   "outputs": [],
   "source": [
    "sim = Simulation(\"Run01\", outputDir = workDir)"
   ]
  },
  {
   "cell_type": "code",
   "execution_count": 184,
   "metadata": {
    "collapsed": false
   },
   "outputs": [],
   "source": [
    "sim[\"Camera/IncludeFieldDistortion\"] = \"no\""
   ]
  },
  {
   "cell_type": "code",
   "execution_count": 185,
   "metadata": {
    "collapsed": true
   },
   "outputs": [],
   "source": [
    "ccdCode = 'B'\n",
    "xCCDpixel = 3800 \n",
    "yCCDpixel = 3800\n",
    "subfieldSizeX = 50\n",
    "subfieldSizeY = 50"
   ]
  },
  {
   "cell_type": "code",
   "execution_count": 186,
   "metadata": {
    "collapsed": false
   },
   "outputs": [],
   "source": [
    "ra, dec = pixelToSkyCoordinates(sim, ccdCode, xCCDpixel, yCCDpixel)"
   ]
  },
  {
   "cell_type": "code",
   "execution_count": 187,
   "metadata": {
    "collapsed": false
   },
   "outputs": [
    {
     "data": {
      "text/plain": [
       "True"
      ]
     },
     "execution_count": 187,
     "metadata": {},
     "output_type": "execute_result"
    }
   ],
   "source": [
    "setSubfieldAroundCoordinates(sim, ra, dec, subfieldSizeX, subfieldSizeY, normal=True)"
   ]
  },
  {
   "cell_type": "markdown",
   "metadata": {},
   "source": [
    "## Make a starCatalog with stars of identical magnitude lying over the diagonals of each CCD"
   ]
  },
  {
   "cell_type": "code",
   "execution_count": 188,
   "metadata": {
    "collapsed": true
   },
   "outputs": [],
   "source": [
    "starCatalogFilename = workDir + \"/generatedFromPixelCoordinates.starcat\""
   ]
  },
  {
   "cell_type": "code",
   "execution_count": 189,
   "metadata": {
    "collapsed": true
   },
   "outputs": [],
   "source": [
    "ccdCode = 'B'"
   ]
  },
  {
   "cell_type": "code",
   "execution_count": 190,
   "metadata": {
    "collapsed": false
   },
   "outputs": [],
   "source": [
    "vMag = []\n",
    "raStar = []\n",
    "decStar = []\n",
    "\n",
    "for x in range(255, 4510, 200):\n",
    "    ra, dec = pixelToSkyCoordinates(sim, ccdCode, x, x)\n",
    "    \n",
    "    raStar.append(ra)\n",
    "    decStar.append(dec)\n",
    "    vMag.append(12.5)\n",
    "    \n",
    "for x in range(255, 4510, 200):\n",
    "    ra, dec = pixelToSkyCoordinates(sim, ccdCode, x, 4510 - x)\n",
    "    \n",
    "    raStar.append(ra)\n",
    "    decStar.append(dec)\n",
    "    vMag.append(12.5)\n",
    "\n",
    "raStar = np.array(raStar)\n",
    "decStar = np.array(decStar)\n",
    "vMag = np.array(vMag)\n"
   ]
  },
  {
   "cell_type": "code",
   "execution_count": 191,
   "metadata": {
    "collapsed": false
   },
   "outputs": [],
   "source": [
    "np.savetxt(starCatalogFilename, np.transpose([raStar, decStar, vMag]), fmt=['%11.6f', '%11.6f', '%8.4f'])"
   ]
  },
  {
   "cell_type": "markdown",
   "metadata": {},
   "source": [
    "Update the simulation parameters to pick up the new star catalog and set the subField around one of the stars."
   ]
  },
  {
   "cell_type": "code",
   "execution_count": 192,
   "metadata": {
    "collapsed": true
   },
   "outputs": [],
   "source": [
    "sim[\"ObservingParameters/StarCatalogFile\"] = starCatalogFilename"
   ]
  },
  {
   "cell_type": "code",
   "execution_count": 193,
   "metadata": {
    "collapsed": false
   },
   "outputs": [
    {
     "data": {
      "text/plain": [
       "True"
      ]
     },
     "execution_count": 193,
     "metadata": {},
     "output_type": "execute_result"
    }
   ],
   "source": [
    "setSubfieldAroundCoordinates(sim, ra, dec, subfieldSizeX, subfieldSizeY, normal=True)"
   ]
  },
  {
   "cell_type": "code",
   "execution_count": 194,
   "metadata": {
    "collapsed": false
   },
   "outputs": [],
   "source": [
    "setSubfieldAroundPixelCoordinates(sim, ccdCode, 255, 255, subfieldSizeX, subfieldSizeY)"
   ]
  },
  {
   "cell_type": "code",
   "execution_count": 195,
   "metadata": {
    "collapsed": false
   },
   "outputs": [],
   "source": [
    "RA_PLATFORM  = np.deg2rad(float(sim[\"ObservingParameters/RApointing\"]))\n",
    "DEC_PLATFORM = np.deg2rad(float(sim[\"ObservingParameters/DecPointing\"]))"
   ]
  },
  {
   "cell_type": "code",
   "execution_count": 196,
   "metadata": {
    "collapsed": false
   },
   "outputs": [],
   "source": [
    "azimuth = np.deg2rad(float(sim[\"Telescope/AzimuthAngle\"]))\n",
    "tilt    = np.deg2rad(float(sim[\"Telescope/TiltAngle\"]))"
   ]
  },
  {
   "cell_type": "code",
   "execution_count": 197,
   "metadata": {
    "collapsed": false
   },
   "outputs": [],
   "source": [
    "RA_TELESCOPE, DEC_TELESCOPE = platformToTelescopePointingCoordinates(RA_PLATFORM, DEC_PLATFORM, azimuth, tilt)"
   ]
  },
  {
   "cell_type": "code",
   "execution_count": 198,
   "metadata": {
    "collapsed": true
   },
   "outputs": [],
   "source": [
    "focalPlaneAngle = float(sim[\"Camera/FocalPlaneOrientation\"])\n",
    "focalLength     = float(sim[\"Camera/FocalLength\"])*1000.                       # [m] -> [mm]\n",
    "pixelSize       = float(sim[\"CCD/PixelSize\"])"
   ]
  },
  {
   "cell_type": "markdown",
   "metadata": {},
   "source": [
    "## Checking the result"
   ]
  },
  {
   "cell_type": "code",
   "execution_count": 199,
   "metadata": {
    "collapsed": false
   },
   "outputs": [],
   "source": [
    "%matplotlib inline\n",
    "%run setupMatplotlib.py"
   ]
  },
  {
   "cell_type": "markdown",
   "metadata": {},
   "source": [
    "#### Plot the CCDs and stars from the star catalog on the Sky."
   ]
  },
  {
   "cell_type": "code",
   "execution_count": 200,
   "metadata": {
    "collapsed": false,
    "scrolled": false
   },
   "outputs": [
    {
     "data": {
      "text/plain": [
       "(50.0, 300.0, -100.0, -40.0)"
      ]
     },
     "execution_count": 200,
     "metadata": {},
     "output_type": "execute_result"
    },
    {
     "data": {
      "image/png": "[encoded data removed]",
      "text/plain": [
       "<matplotlib.figure.Figure at 0x11135ca90>"
      ]
     },
     "metadata": {},
     "output_type": "display_data"
    }
   ],
   "source": [
    "drawCCDsInSky(RA_TELESCOPE, DEC_TELESCOPE, focalPlaneAngle, focalLength, pixelSize)\n",
    "plt.scatter(np.rad2deg(raStar), np.rad2deg(decStar), 12.5)\n",
    "plt.axis('auto')"
   ]
  },
  {
   "cell_type": "code",
   "execution_count": 201,
   "metadata": {
    "collapsed": false
   },
   "outputs": [
    {
     "data": {
      "text/plain": [
       "<method-wrapper '__len__' of numpy.ndarray object at 0x1106893f0>"
      ]
     },
     "execution_count": 201,
     "metadata": {},
     "output_type": "execute_result"
    }
   ],
   "source": [
    "raStar.__len__\n"
   ]
  },
  {
   "cell_type": "markdown",
   "metadata": {},
   "source": [
    "#### Plot the CCDs and the stars from the star catalog in the focal plane."
   ]
  },
  {
   "cell_type": "markdown",
   "metadata": {},
   "source": [
    "Load the star catalog that was generated from the pixel coordinates."
   ]
  },
  {
   "cell_type": "code",
   "execution_count": 202,
   "metadata": {
    "collapsed": true
   },
   "outputs": [],
   "source": [
    "ra, dec, Vmag = np.loadtxt(starCatalogFilename, unpack=True)\n",
    "Nstars = len(ra)"
   ]
  },
  {
   "cell_type": "code",
   "execution_count": 203,
   "metadata": {
    "collapsed": false
   },
   "outputs": [
    {
     "data": {
      "text/plain": [
       "(-100.0, 100.0, -100.0, 100.0)"
      ]
     },
     "execution_count": 203,
     "metadata": {},
     "output_type": "execute_result"
    },
    {
     "data": {
      "image/png": "[encoded data removed]",
      "text/plain": [
       "<matplotlib.figure.Figure at 0x1106f6cf8>"
      ]
     },
     "metadata": {},
     "output_type": "display_data"
    }
   ],
   "source": [
    "drawCCDsInFocalPlane(pixelSize)\n",
    "for idx in range(0, Nstars):\n",
    "    drawStarInFocalPlane(sim, ra[idx], dec[idx])\n",
    "\n",
    "drawSubfieldInFocalPlane(ccdCode, 4510/2, 4510/2, subfieldSizeX, subfieldSizeY, pixelSize)\n",
    "\n",
    "ccdCode, xCCDpixel, yCCDpixel = skyToPixelCoordinates(sim, ra[5], dec[5], normal=True)\n",
    "drawSubfieldInFocalPlane(ccdCode, xCCDpixel, yCCDpixel, subfieldSizeX, subfieldSizeY, pixelSize)\n",
    "plt.axis('scaled')"
   ]
  },
  {
   "cell_type": "code",
   "execution_count": null,
   "metadata": {
    "collapsed": true
   },
   "outputs": [],
   "source": []
  }
 ],
 "metadata": {
  "kernelspec": {
   "display_name": "Python 3",
   "language": "python",
   "name": "python3"
  },
  "language_info": {
   "codemirror_mode": {
    "name": "ipython",
    "version": 3
   },
   "file_extension": ".py",
   "mimetype": "text/x-python",
   "name": "python",
   "nbconvert_exporter": "python",
   "pygments_lexer": "ipython3",
   "version": "3.5.1"
  }
 },
 "nbformat": 4,
 "nbformat_minor": 0
}
