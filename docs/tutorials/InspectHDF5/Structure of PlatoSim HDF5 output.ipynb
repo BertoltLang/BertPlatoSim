{
 "cells": [
  {
   "cell_type": "markdown",
   "metadata": {},
   "source": [
    "# The structure of the PlatoSim HDF5 output"
   ]
  },
  {
   "cell_type": "markdown",
   "metadata": {},
   "source": [
    "PlatoSim produces three output files:\n",
    "\n",
    "* an HDF5 file which is the subject of this notebook\n",
    "* a log file which contains all info, warning, error, and debugging messages\n",
    "* a copy of the YAML input file\n",
    "\n",
    "We will assume in this notebook that you run PlatoSim and inspect the HDF5 output file from a python environment. The HDF5 file is located in the directory specified in sim.outputDir."
   ]
  },
  {
   "cell_type": "markdown",
   "metadata": {},
   "source": [
    "## Setup your environment"
   ]
  },
  {
   "cell_type": "code",
   "execution_count": 1,
   "metadata": {
    "collapsed": true
   },
   "outputs": [],
   "source": [
    "%matplotlib inline\n",
    "%run -i setupMatplotlib.py"
   ]
  },
  {
   "cell_type": "code",
   "execution_count": 2,
   "metadata": {
    "collapsed": false
   },
   "outputs": [],
   "source": [
    "projectDir = '/Users/rik/Git/PlatoSim3'\n",
    "workDir = '/Users/rik/Work/PLATO/Simulations'\n",
    "\n",
    "%run -i setupEnvironment.py"
   ]
  },
  {
   "cell_type": "code",
   "execution_count": 3,
   "metadata": {
    "collapsed": true
   },
   "outputs": [],
   "source": [
    "import numpy as np\n",
    "import tables"
   ]
  },
  {
   "cell_type": "markdown",
   "metadata": {},
   "source": [
    "when the above imports failed, you might need to install one or the other packages into your Python environment."
   ]
  },
  {
   "cell_type": "code",
   "execution_count": 4,
   "metadata": {
    "collapsed": false
   },
   "outputs": [],
   "source": [
    "import simulation\n",
    "from simulation import Simulation"
   ]
  },
  {
   "cell_type": "markdown",
   "metadata": {},
   "source": [
    "when the above imports failed, you might need to properly set the location where Python finds the PlatoSim modules. See `setupEnvironment.py` how to do that."
   ]
  },
  {
   "cell_type": "markdown",
   "metadata": {},
   "source": [
    "## Running a simulation"
   ]
  },
  {
   "cell_type": "code",
   "execution_count": 5,
   "metadata": {
    "collapsed": false
   },
   "outputs": [],
   "source": [
    "sim = Simulation('Run01', outputDir=workDir)"
   ]
  },
  {
   "cell_type": "code",
   "execution_count": 6,
   "metadata": {
    "collapsed": false
   },
   "outputs": [],
   "source": [
    "simFile = sim.run(removeOutputFile=True)"
   ]
  },
  {
   "cell_type": "markdown",
   "metadata": {},
   "source": [
    "<img src=\"Structure of PlatoSim HDF5.png\">"
   ]
  },
  {
   "cell_type": "code",
   "execution_count": 7,
   "metadata": {
    "collapsed": true
   },
   "outputs": [],
   "source": [
    "out = tables.open_file(workDir + '/Run01.hdf5')"
   ]
  },
  {
   "cell_type": "code",
   "execution_count": 8,
   "metadata": {
    "collapsed": false
   },
   "outputs": [
    {
     "data": {
      "text/plain": [
       "/ (RootGroup) ''\n",
       "  children := ['Version' (Group), 'Vignetting' (Group), 'ACS' (Group), 'SmearingMaps' (Group), 'InputParameters' (Group), 'Images' (Group), 'BiasMaps' (Group), 'PSF' (Group), 'Telescope' (Group), 'StarPositions' (Group), 'Flatfield' (Group), 'Background' (Group), 'StarCatalog' (Group)]"
      ]
     },
     "execution_count": 8,
     "metadata": {},
     "output_type": "execute_result"
    }
   ],
   "source": [
    "out.root"
   ]
  },
  {
   "cell_type": "markdown",
   "metadata": {},
   "source": [
    "The group `InputParameters` contains a copy of the configuration parameters from the YAML file. Not all parameters however have yet made it into the HDF5 output file, on-going work."
   ]
  },
  {
   "cell_type": "code",
   "execution_count": 9,
   "metadata": {
    "collapsed": false
   },
   "outputs": [
    {
     "data": {
      "text/plain": [
       "/InputParameters (Group) ''\n",
       "  children := ['Camera' (Group), 'PSF' (Group), 'Platform' (Group), 'ObservingParameters' (Group), 'RandomSeeds' (Group), 'SubField' (Group), 'Telescope' (Group), 'CCD' (Group)]"
      ]
     },
     "execution_count": 9,
     "metadata": {},
     "output_type": "execute_result"
    }
   ],
   "source": [
    "out.root.InputParameters"
   ]
  },
  {
   "cell_type": "markdown",
   "metadata": {},
   "source": [
    "The group `StarPositions` contains - for each exposure - the pixel coordinates, planar focal plane coordinates, and the flux of the star with starID. The coordinates are averaged positions of the star over the duration of the exposure. Only the stars that fall within the subField during the exposure are stored, i.e. some stars may move out of the subField due to the spacecraft jitter."
   ]
  },
  {
   "cell_type": "code",
   "execution_count": 10,
   "metadata": {
    "collapsed": false
   },
   "outputs": [
    {
     "data": {
      "text/plain": [
       "/StarPositions (Group) ''\n",
       "  children := ['Exposure000002' (Group), 'Exposure000000' (Group), 'Exposure000005' (Group), 'Exposure000007' (Group), 'Exposure000001' (Group), 'Exposure000006' (Group), 'Exposure000009' (Group), 'Exposure000004' (Group), 'Exposure000008' (Group), 'Time' (Array), 'Exposure000003' (Group)]"
      ]
     },
     "execution_count": 10,
     "metadata": {},
     "output_type": "execute_result"
    }
   ],
   "source": [
    "out.root.StarPositions"
   ]
  },
  {
   "cell_type": "code",
   "execution_count": 11,
   "metadata": {
    "collapsed": false
   },
   "outputs": [
    {
     "data": {
      "text/plain": [
       "/StarPositions/Exposure000001 (Group) ''\n",
       "  children := ['colPix' (Array), 'flux' (Array), 'rowPix' (Array), 'xFPmm' (Array), 'yFPmm' (Array), 'starID' (Array)]"
      ]
     },
     "execution_count": 11,
     "metadata": {},
     "output_type": "execute_result"
    }
   ],
   "source": [
    "out.root.StarPositions.Exposure000001"
   ]
  },
  {
   "cell_type": "markdown",
   "metadata": {},
   "source": [
    "The group `StarCatalog` contains the sky coordinates, the pixel coordinates, and the focal plane coordinates of all the stars that were detected during any exposure. The starIDs map the ID from the input starCatalog that was supplied with the configuration. Pixel coordinates and planar focal plane coordinates are initial values before any Jitter takes place."
   ]
  },
  {
   "cell_type": "code",
   "execution_count": 12,
   "metadata": {
    "collapsed": false
   },
   "outputs": [
    {
     "data": {
      "text/plain": [
       "/StarCatalog (Group) ''\n",
       "  children := ['colPix' (Array), 'xFPmm' (Array), 'RA' (Array), 'rowPix' (Array), 'starIDs' (Array), 'Vmag' (Array), 'Dec' (Array), 'yFPmm' (Array)]"
      ]
     },
     "execution_count": 12,
     "metadata": {},
     "output_type": "execute_result"
    }
   ],
   "source": [
    "out.root.StarCatalog"
   ]
  },
  {
   "cell_type": "code",
   "execution_count": 13,
   "metadata": {
    "collapsed": false
   },
   "outputs": [
    {
     "data": {
      "text/plain": [
       "/Images (Group) ''\n",
       "  children := ['image000004' (Array), 'image000000' (Array), 'image000008' (Array), 'image000007' (Array), 'image000003' (Array), 'image000005' (Array), 'image000009' (Array), 'image000001' (Array), 'image000002' (Array), 'image000006' (Array)]"
      ]
     },
     "execution_count": 13,
     "metadata": {},
     "output_type": "execute_result"
    }
   ],
   "source": [
    "out.root.Images"
   ]
  },
  {
   "cell_type": "code",
   "execution_count": 14,
   "metadata": {
    "collapsed": false
   },
   "outputs": [
    {
     "data": {
      "text/plain": [
       "/Background (Group) ''\n",
       "  children := ['skyBackground' (Array)]"
      ]
     },
     "execution_count": 14,
     "metadata": {},
     "output_type": "execute_result"
    }
   ],
   "source": [
    "out.root.Background"
   ]
  },
  {
   "cell_type": "code",
   "execution_count": 15,
   "metadata": {
    "collapsed": false
   },
   "outputs": [
    {
     "data": {
      "text/plain": [
       "/SmearingMaps (Group) ''\n",
       "  children := ['smearingMap000006' (Array), 'smearingMap000001' (Array), 'smearingMap000003' (Array), 'smearingMap000005' (Array), 'smearingMap000009' (Array), 'smearingMap000002' (Array), 'smearingMap000007' (Array), 'smearingMap000000' (Array), 'smearingMap000008' (Array), 'smearingMap000004' (Array)]"
      ]
     },
     "execution_count": 15,
     "metadata": {},
     "output_type": "execute_result"
    }
   ],
   "source": [
    "out.root.SmearingMaps"
   ]
  },
  {
   "cell_type": "code",
   "execution_count": 16,
   "metadata": {
    "collapsed": false
   },
   "outputs": [
    {
     "data": {
      "text/plain": [
       "/BiasMaps (Group) ''\n",
       "  children := ['biasMap000003' (Array), 'biasMap000005' (Array), 'biasMap000002' (Array), 'biasMap000004' (Array), 'biasMap000001' (Array), 'biasMap000007' (Array), 'biasMap000000' (Array), 'biasMap000008' (Array), 'biasMap000009' (Array), 'biasMap000006' (Array)]"
      ]
     },
     "execution_count": 16,
     "metadata": {},
     "output_type": "execute_result"
    }
   ],
   "source": [
    "out.root.BiasMaps"
   ]
  },
  {
   "cell_type": "code",
   "execution_count": 17,
   "metadata": {
    "collapsed": false
   },
   "outputs": [
    {
     "data": {
      "text/plain": [
       "/Telescope (Group) ''\n",
       "  children := ['TelescopeRA' (Array), 'FocalPlaneOrientation' (Array), 'TelescopePitch' (Array), 'Tilt' (Array), 'TelescopeRoll' (Array), 'TelescopeYaw' (Array), 'Azimuth' (Array), 'TelescopeDec' (Array), 'Time' (Array)]"
      ]
     },
     "execution_count": 17,
     "metadata": {},
     "output_type": "execute_result"
    }
   ],
   "source": [
    "out.root.Telescope"
   ]
  },
  {
   "cell_type": "code",
   "execution_count": 18,
   "metadata": {
    "collapsed": false
   },
   "outputs": [
    {
     "data": {
      "text/plain": [
       "/ACS (Group) ''\n",
       "  children := ['PlatformRA' (Array), 'Yaw' (Array), 'Roll' (Array), 'PlatformDec' (Array), 'Pitch' (Array), 'Time' (Array)]"
      ]
     },
     "execution_count": 18,
     "metadata": {},
     "output_type": "execute_result"
    }
   ],
   "source": [
    "out.root.ACS"
   ]
  },
  {
   "cell_type": "code",
   "execution_count": 19,
   "metadata": {
    "collapsed": false
   },
   "outputs": [
    {
     "data": {
      "text/plain": [
       "/PSF (Group) ''\n",
       "  children := ['rotatedPSF' (Array), 'rebinnedPSFsubPixel' (Array), 'rebinnedPSFpixel' (Array)]"
      ]
     },
     "execution_count": 19,
     "metadata": {},
     "output_type": "execute_result"
    }
   ],
   "source": [
    "out.root.PSF"
   ]
  },
  {
   "cell_type": "code",
   "execution_count": 20,
   "metadata": {
    "collapsed": false
   },
   "outputs": [
    {
     "data": {
      "text/plain": [
       "/Vignetting (Group) ''\n",
       "  children := ['vignettingMap' (Array)]"
      ]
     },
     "execution_count": 20,
     "metadata": {},
     "output_type": "execute_result"
    }
   ],
   "source": [
    "out.root.Vignetting"
   ]
  },
  {
   "cell_type": "code",
   "execution_count": 21,
   "metadata": {
    "collapsed": false
   },
   "outputs": [
    {
     "data": {
      "text/plain": [
       "/Flatfield (Group) ''\n",
       "  children := ['PRNU' (Array), 'IRNU' (Array)]"
      ]
     },
     "execution_count": 21,
     "metadata": {},
     "output_type": "execute_result"
    }
   ],
   "source": [
    "out.root.Flatfield"
   ]
  },
  {
   "cell_type": "code",
   "execution_count": 22,
   "metadata": {
    "collapsed": false
   },
   "outputs": [
    {
     "data": {
      "text/plain": [
       "/StarCatalog (Group) ''\n",
       "  children := ['colPix' (Array), 'xFPmm' (Array), 'RA' (Array), 'rowPix' (Array), 'starIDs' (Array), 'Vmag' (Array), 'Dec' (Array), 'yFPmm' (Array)]"
      ]
     },
     "execution_count": 22,
     "metadata": {},
     "output_type": "execute_result"
    }
   ],
   "source": [
    "out.root.StarCatalog"
   ]
  },
  {
   "cell_type": "code",
   "execution_count": 23,
   "metadata": {
    "collapsed": false
   },
   "outputs": [
    {
     "data": {
      "text/plain": [
       "/Version._v_attrs (AttributeSet), 2 attributes:\n",
       "   [Application := b'PlatoSim3',\n",
       "    GitVersion := b'3.1.0-149-g5055837']"
      ]
     },
     "execution_count": 23,
     "metadata": {},
     "output_type": "execute_result"
    }
   ],
   "source": [
    "out.root.Version._v_attrs"
   ]
  },
  {
   "cell_type": "code",
   "execution_count": 24,
   "metadata": {
    "collapsed": false
   },
   "outputs": [
    {
     "data": {
      "text/plain": [
       "b'PlatoSim3'"
      ]
     },
     "execution_count": 24,
     "metadata": {},
     "output_type": "execute_result"
    }
   ],
   "source": [
    "out.root.Version._v_attrs[\"Application\"]"
   ]
  },
  {
   "cell_type": "code",
   "execution_count": null,
   "metadata": {
    "collapsed": true
   },
   "outputs": [],
   "source": []
  }
 ],
 "metadata": {
  "kernelspec": {
   "display_name": "Python 3",
   "language": "python",
   "name": "python3"
  },
  "language_info": {
   "codemirror_mode": {
    "name": "ipython",
    "version": 3
   },
   "file_extension": ".py",
   "mimetype": "text/x-python",
   "name": "python",
   "nbconvert_exporter": "python",
   "pygments_lexer": "ipython3",
   "version": "3.5.1"
  }
 },
 "nbformat": 4,
 "nbformat_minor": 0
}
