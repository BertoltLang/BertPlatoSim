{
 "cells": [
  {
   "cell_type": "markdown",
   "metadata": {},
   "source": [
    "# Structure of the PSF HDF5 file"
   ]
  },
  {
   "cell_type": "markdown",
   "metadata": {},
   "source": [
    "The input file containing the Point Spread Function (PSF) of the PLATO telescope is also provided as an HDF5 file. The PLATO Simulator software knows about the structure and how to select the correct PSF from the file.\n",
    "\n",
    "The PSF HDF5 file contains currently only one group named **T6000** which represents the temperature (K) of the star for which the PSF is modelled. This group contains 15 children (also groups) that represent the PSF at a certains radial (gnomonic) distance from the optical axis of the telescope. These groups are called '`arxxxxx`' where `xxxxx` is the radial distance [deg] multiplied by 1000. So, the PSF of a star at radial distance 7.053 deg from the optical axis is located in the group `ar07053`.\n",
    "\n",
    "Each group `arxxxxx` contains in turn 4 children (datasets) named `az0`, `az90`, `az180`, `az270`. These groups contain the PSFs for azimuth 0, 90, 180, and 270. These datasets each contain a number of attributes that completely define the PSF.\n"
   ]
  },
  {
   "cell_type": "markdown",
   "metadata": {},
   "source": [
    "<img src=\"Structure of the PSF HDF5 file.png\">"
   ]
  },
  {
   "cell_type": "code",
   "execution_count": 1,
   "metadata": {
    "collapsed": false
   },
   "outputs": [],
   "source": [
    "%matplotlib inline\n",
    "%run -i setupMatplotlib.py"
   ]
  },
  {
   "cell_type": "code",
   "execution_count": 2,
   "metadata": {
    "collapsed": true
   },
   "outputs": [],
   "source": [
    "projectDir = '/Users/rik/Git/PlatoSim3'\n",
    "workDir = '/Users/rik/Work/PLATO/Simulations'\n",
    "\n",
    "%run -i setupEnvironment.py"
   ]
  },
  {
   "cell_type": "code",
   "execution_count": 3,
   "metadata": {
    "collapsed": true
   },
   "outputs": [],
   "source": [
    "import numpy as np\n",
    "import tables"
   ]
  },
  {
   "cell_type": "code",
   "execution_count": 4,
   "metadata": {
    "collapsed": false
   },
   "outputs": [],
   "source": [
    "from simulation import Simulation"
   ]
  },
  {
   "cell_type": "code",
   "execution_count": 6,
   "metadata": {
    "collapsed": false
   },
   "outputs": [],
   "source": [
    "psfFile = tables.open_file(projectDir + \"/inputfiles/psf.hdf5\")"
   ]
  },
  {
   "cell_type": "code",
   "execution_count": 7,
   "metadata": {
    "collapsed": false
   },
   "outputs": [
    {
     "data": {
      "text/plain": [
       "/T6000 (Group) ''\n",
       "  children := ['ar04238' (Group), 'ar18887' (Group), 'ar01414' (Group), 'ar18081' (Group), 'ar07053' (Group), 'ar11241' (Group), 'ar14001' (Group), 'ar02827' (Group), 'ar16730' (Group), 'ar05647' (Group), 'ar15370' (Group), 'ar09850' (Group), 'ar00000' (Group), 'ar08454' (Group), 'ar12625' (Group)]"
      ]
     },
     "execution_count": 7,
     "metadata": {},
     "output_type": "execute_result"
    }
   ],
   "source": [
    "psfFile.root.T6000"
   ]
  },
  {
   "cell_type": "code",
   "execution_count": 8,
   "metadata": {
    "collapsed": false
   },
   "outputs": [
    {
     "data": {
      "text/plain": [
       "/T6000/ar00000 (Group) ''\n",
       "  children := ['az180' (Array), 'az270' (Array), 'az90' (Array), 'az0' (Array)]"
      ]
     },
     "execution_count": 8,
     "metadata": {},
     "output_type": "execute_result"
    }
   ],
   "source": [
    "psfFile.root.T6000.ar00000"
   ]
  },
  {
   "cell_type": "code",
   "execution_count": 9,
   "metadata": {
    "collapsed": false
   },
   "outputs": [
    {
     "data": {
      "text/plain": [
       "/T6000/ar00000/az180._v_attrs (AttributeSet), 9 attributes:\n",
       "   [Xdeg := 0.0,\n",
       "    Xfp := 0.0,\n",
       "    Ydeg := 0.0,\n",
       "    Yfp := 0.0,\n",
       "    azimuth := 180,\n",
       "    orientation := 45.0,\n",
       "    radius := 0.0,\n",
       "    temperature := 6000,\n",
       "    vignetting := 0.0]"
      ]
     },
     "execution_count": 9,
     "metadata": {},
     "output_type": "execute_result"
    }
   ],
   "source": [
    "psfFile.root.T6000.ar00000.az180._v_attrs"
   ]
  },
  {
   "cell_type": "code",
   "execution_count": 10,
   "metadata": {
    "collapsed": false
   },
   "outputs": [
    {
     "data": {
      "text/plain": [
       "6000"
      ]
     },
     "execution_count": 10,
     "metadata": {},
     "output_type": "execute_result"
    }
   ],
   "source": [
    "psfFile.root.T6000.ar00000.az180._v_attrs['temperature']"
   ]
  },
  {
   "cell_type": "code",
   "execution_count": 11,
   "metadata": {
    "collapsed": false
   },
   "outputs": [],
   "source": [
    "psf = np.array(psfFile.root.T6000.ar16730.az180)"
   ]
  },
  {
   "cell_type": "code",
   "execution_count": 12,
   "metadata": {
    "collapsed": false
   },
   "outputs": [
    {
     "data": {
      "text/plain": [
       "<matplotlib.image.AxesImage at 0x113cffeb8>"
      ]
     },
     "execution_count": 12,
     "metadata": {},
     "output_type": "execute_result"
    },
    {
     "data": {
      "image/png": "[encoded data removed]",
      "text/plain": [
       "<matplotlib.figure.Figure at 0x113d45470>"
      ]
     },
     "metadata": {},
     "output_type": "display_data"
    }
   ],
   "source": [
    "plt.imshow(psf, origin='lower', cmap=cm.hot, interpolation=\"nearest\")"
   ]
  },
  {
   "cell_type": "markdown",
   "metadata": {
    "collapsed": true
   },
   "source": [
    "## How does PlatoSim select a PSF"
   ]
  },
  {
   "cell_type": "markdown",
   "metadata": {},
   "source": [
    "The PSF is choosen based on the position of the subField on the CCD. The gnomonic radial distance of the center of the subField from the optical axis is calculated and used to select the proper `arxxxxx` dataset. Currently there is only one set of PSFs available, so all groups are populated with the same array data."
   ]
  },
  {
   "cell_type": "markdown",
   "metadata": {},
   "source": [
    "The user can specify the gnomonic radial distance to the optical axis in the configuration file with \"PSF/DistanceToAO\". This selects a specific PSF for that distance regardless the position of the subField on the CCD."
   ]
  },
  {
   "cell_type": "markdown",
   "metadata": {},
   "source": [
    "When the PSF data is selected and loaded, the array is rotated by a factor calculated from the focal plane coordinates of the center of the subField. The user is however allowed to specify a rotation angle in the configuration file through the input parameter \"PSF/RotationAngle\"."
   ]
  },
  {
   "cell_type": "markdown",
   "metadata": {},
   "source": [
    "When the PSF is selected and rotated, the array will be rebinned to the number of sub-pixels per pixel used for the Detector. The number of sub-pixels per pixel that is used to model and render the current PSFs is 128. The PSFs are rendered over 8 pixels which makes the dataset arrays in the HDF5 file 1024 x 1024."
   ]
  },
  {
   "cell_type": "markdown",
   "metadata": {},
   "source": [
    "Since we only have one PSF per subField, the whole process of selecting, rotation and rebinning the PSF is done once during the start of the simulation, before looping over all exposures."
   ]
  },
  {
   "cell_type": "markdown",
   "metadata": {},
   "source": [
    "The selected PSF is saved in the output HDF5 file under the group 'PSF'. There are three PSF maps saved, the selected PSF, the rotated PSF and the rebinned PSF."
   ]
  },
  {
   "cell_type": "code",
   "execution_count": 13,
   "metadata": {
    "collapsed": false
   },
   "outputs": [],
   "source": [
    "sim = Simulation(\"Run01\", outputDir=workDir)"
   ]
  },
  {
   "cell_type": "code",
   "execution_count": 14,
   "metadata": {
    "collapsed": true
   },
   "outputs": [],
   "source": [
    "sim[\"PSF/Model\"] = \"FromFile\"\n",
    "sim[\"PSF/FromFile/DistanceToOA\"] = 16.0"
   ]
  },
  {
   "cell_type": "code",
   "execution_count": 15,
   "metadata": {
    "collapsed": false
   },
   "outputs": [],
   "source": [
    "simFile = sim.run(removeOutputFile=True)"
   ]
  },
  {
   "cell_type": "code",
   "execution_count": 16,
   "metadata": {
    "collapsed": true
   },
   "outputs": [],
   "source": [
    "out = tables.open_file(workDir + \"/Run01.hdf5\")"
   ]
  },
  {
   "cell_type": "code",
   "execution_count": 17,
   "metadata": {
    "collapsed": false
   },
   "outputs": [
    {
     "data": {
      "text/plain": [
       "/PSF (Group) ''\n",
       "  children := ['rotatedPSF' (Array), 'rebinnedPSFpixel' (Array), 'rebinnedPSFsubPixel' (Array)]"
      ]
     },
     "execution_count": 17,
     "metadata": {},
     "output_type": "execute_result"
    }
   ],
   "source": [
    "out.root.PSF"
   ]
  },
  {
   "cell_type": "code",
   "execution_count": 18,
   "metadata": {
    "collapsed": true
   },
   "outputs": [],
   "source": [
    "rebinnedPSFsubPixel = np.array(out.root.PSF.rebinnedPSFsubPixel)"
   ]
  },
  {
   "cell_type": "code",
   "execution_count": 19,
   "metadata": {
    "collapsed": false
   },
   "outputs": [
    {
     "data": {
      "text/plain": [
       "<matplotlib.image.AxesImage at 0x117186f60>"
      ]
     },
     "execution_count": 19,
     "metadata": {},
     "output_type": "execute_result"
    },
    {
     "data": {
      "image/png": "[encoded data removed]",
      "text/plain": [
       "<matplotlib.figure.Figure at 0x117160588>"
      ]
     },
     "metadata": {},
     "output_type": "display_data"
    }
   ],
   "source": [
    "plt.imshow(rebinnedPSFsubPixel, origin='lower', interpolation='nearest')"
   ]
  },
  {
   "cell_type": "code",
   "execution_count": 20,
   "metadata": {
    "collapsed": true
   },
   "outputs": [],
   "source": [
    "rebinnedPSFpixel = np.array(out.root.PSF.rebinnedPSFpixel)"
   ]
  },
  {
   "cell_type": "code",
   "execution_count": 21,
   "metadata": {
    "collapsed": false
   },
   "outputs": [
    {
     "data": {
      "text/plain": [
       "<matplotlib.image.AxesImage at 0x11e1960b8>"
      ]
     },
     "execution_count": 21,
     "metadata": {},
     "output_type": "execute_result"
    },
    {
     "data": {
      "image/png": "[encoded data removed]",
      "text/plain": [
       "<matplotlib.figure.Figure at 0x1171aba90>"
      ]
     },
     "metadata": {},
     "output_type": "display_data"
    }
   ],
   "source": [
    "plt.imshow(rebinnedPSFpixel, origin='lower', interpolation='nearest')"
   ]
  },
  {
   "cell_type": "code",
   "execution_count": null,
   "metadata": {
    "collapsed": true
   },
   "outputs": [],
   "source": []
  }
 ],
 "metadata": {
  "kernelspec": {
   "display_name": "Python 2",
   "language": "python",
   "name": "python2"
  },
  "language_info": {
   "codemirror_mode": {
    "name": "ipython",
    "version": 2
   },
   "file_extension": ".py",
   "mimetype": "text/x-python",
   "name": "python",
   "nbconvert_exporter": "python",
   "pygments_lexer": "ipython2",
   "version": "2.7.11"
  }
 },
 "nbformat": 4,
 "nbformat_minor": 0
}
