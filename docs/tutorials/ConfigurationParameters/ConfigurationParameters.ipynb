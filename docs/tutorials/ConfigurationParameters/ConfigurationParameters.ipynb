{
 "cells": [
  {
   "cell_type": "markdown",
   "metadata": {},
   "source": [
    "# Configuration Parameters\n",
    "\n",
    "Located under /inputfiles"
   ]
  },
  {
   "cell_type": "markdown",
   "metadata": {},
   "source": [
    "## General Parameters"
   ]
  },
  {
   "cell_type": "markdown",
   "metadata": {},
   "source": [
    "Where have you stored the PlatoSim software?\n",
    "\n",
    "    export PLATO_PROJECT_HOME=<full path to the PlatoSim3 directory>"
   ]
  },
  {
   "cell_type": "markdown",
   "metadata": {},
   "source": [
    "General:\n",
    "\n",
    "    ProjectLocation:             ENV['PLATO_PROJECT_HOME']"
   ]
  },
  {
   "cell_type": "markdown",
   "metadata": {},
   "source": [
    "## Observing Parameters"
   ]
  },
  {
   "cell_type": "markdown",
   "metadata": {},
   "source": [
    "ObservingParameters:\n",
    "\n",
    "    NumExposures:     10                                 # Number of expsosures\n",
    "    ExposureTime:     23                                 # Exposure time [s]\n",
    "    RApointing:       180                                # Right ascension of platform pointing [degrees] \n",
    "    DecPointing:      -70                                # Declination of platform pointing [degrees]\n",
    "    Fluxm0:           1.00238e8                          # Photon flux of a V=0 G2V-star [photons / s / m^2 / nm]\n",
    "    SkyBackground:    220.                               # Stellar + zodiacal background level [photons / pixel / s]\n",
    "    StarCatalogFile:  inputfiles/starField_RA180Dec-70.txt"
   ]
  },
  {
   "cell_type": "markdown",
   "metadata": {},
   "source": [
    "#### Spacecraft pointing\n",
    "\n",
    "The pointing of the spacecraft is the pointing of the platform, and is not identical to the pointing of the telescope (i.e. the optical axis)."
   ]
  },
  {
   "cell_type": "markdown",
   "metadata": {},
   "source": [
    "#### Fluxm0"
   ]
  },
  {
   "cell_type": "markdown",
   "metadata": {},
   "source": [
    "Calculation of the flux $F_{phot}$ of a star:\n",
    "\n",
    "$$F_{phot} = t_{exposure} \\cdot F_0 \\cdot T_{\\lambda} \\cdot Q_{\\lambda} \\cdot A \\cdot 10^{-0.4 m_{\\lambda}} $$"
   ]
  },
  {
   "cell_type": "markdown",
   "metadata": {},
   "source": [
    "#### SkyBackground"
   ]
  },
  {
   "cell_type": "markdown",
   "metadata": {},
   "source": [
    "Uniform background contribution over the whole sub-field:\n",
    "- positive: stellar + zodiacal background level [photons / pixel  / s]\n",
    "- negative: computed automatically, based on:\n",
    "    - position in the sky\n",
    "    - throughput passband (central wavelength & width)\n",
    "    - light-collecting area of the telescope\n",
    "    - plate scale\n",
    "    - exposure time"
   ]
  },
  {
   "cell_type": "markdown",
   "metadata": {},
   "source": [
    "#### Star Catalogue\n",
    "\n",
    "One line per source:\n",
    "- right ascension [degrees]\n",
    "- desclination [degrees]\n",
    "- magnitude"
   ]
  },
  {
   "cell_type": "raw",
   "metadata": {},
   "source": [
    "178.83199     -70.901917    14.099\n",
    "178.841742    -70.919136    14.184\n",
    "178.85185     -70.902611    14.521\n",
    "178.866162    -70.906921    14.392\n",
    "178.884237    -70.911278    13.686\n",
    "178.891264    -70.926537    13.78\n",
    "178.89659     -70.92823     14.213\n",
    "178.900225    -70.901375    13.335\n",
    "178.917098    -70.91806     13.652\n",
    "178.925506    -70.91143     14.829\n",
    "178.943924    -70.910591    13.101\n",
    "178.948331    -70.907166    11.42\n",
    "178.965774    -70.915504    14.742\n",
    "178.976358    -70.91851     14.688"
   ]
  },
  {
   "cell_type": "markdown",
   "metadata": {},
   "source": [
    "## Platform Parameters"
   ]
  },
  {
   "cell_type": "markdown",
   "metadata": {},
   "source": [
    "Platform:\n",
    "\n",
    "    UseJitter:                   yes             # yes or no. If no, ignore everything below.\n",
    "    UseJitterFromFile:           no              # yes or no. If yes, ignore RMS and timescale below.\n",
    "    JitterYawRms:                1.0             # [arcsec]\n",
    "    JitterPitchRms:              1.0             # [arcsec]\n",
    "    JitterRollRms:               1.0             # [arcsec]\n",
    "    JitterTimeScale:             3600.           # [s]\n",
    "    JitterFileName:              inputfiles/jitter.txt"
   ]
  },
  {
   "cell_type": "markdown",
   "metadata": {},
   "source": [
    "#### Jitter"
   ]
  },
  {
   "cell_type": "markdown",
   "metadata": {},
   "source": [
    "Pointing variations of the spacecraft (platform), described in terms of Euler angles (yaw, pitch, roll).\n",
    "\n",
    "<img src=\"SpacecraftCoordinateSystem.png\">"
   ]
  },
  {
   "cell_type": "markdown",
   "metadata": {},
   "source": [
    "##### From File"
   ]
  },
  {
   "cell_type": "markdown",
   "metadata": {},
   "source": [
    "One line per jitter step:\n",
    "- time [s]\n",
    "- step in yaw [arcsec]\n",
    "- step in pitch [arcsec]\n",
    "- step in roll [arcsec]"
   ]
  },
  {
   "cell_type": "raw",
   "metadata": {},
   "source": [
    "   2.4975000e+02   3.5892154e-02  -2.9896427e-02  -7.4326964e-04\n",
    "   2.5000000e+02   3.5886600e-02  -2.9796896e-02  -8.0896974e-04\n",
    "   2.5025000e+02   3.5879634e-02  -2.9727303e-02  -8.3971067e-04\n",
    "   2.5050000e+02   3.5861682e-02  -2.9622416e-02  -8.6962791e-04\n",
    "   2.5075000e+02   3.5844446e-02  -2.9545409e-02  -8.7893084e-04\n",
    "   2.5100000e+02   3.5812059e-02  -2.9402091e-02  -8.7654559e-04\n",
    "   2.5125000e+02   3.5800796e-02  -2.9318479e-02  -8.4273392e-04\n",
    "   2.5150000e+02   3.5793547e-02  -2.9201934e-02  -7.6153016e-04\n",
    "   2.5175000e+02   3.5790543e-02  -2.9121622e-02  -6.9934820e-04\n",
    "   2.5200000e+02   3.5788513e-02  -2.9011166e-02  -6.0914474e-04\n",
    "   2.5225000e+02   3.5787874e-02  -2.8934774e-02  -5.6106633e-04\n",
    "   2.5250000e+02   3.5788380e-02  -2.8803851e-02  -5.0934235e-04\n",
    "   2.5275000e+02   3.5781978e-02  -2.8702110e-02  -4.9146998e-04"
   ]
  },
  {
   "cell_type": "markdown",
   "metadata": {},
   "source": [
    "##### Jitter Parameters"
   ]
  },
  {
   "cell_type": "markdown",
   "metadata": {},
   "source": [
    "- standard deviation of normal distribution describing (yaw, pitch, roll) step\n",
    "- timescale"
   ]
  },
  {
   "cell_type": "markdown",
   "metadata": {},
   "source": [
    "Jitter noise will be generated in the time domain with the following power spectral density:"
   ]
  },
  {
   "cell_type": "markdown",
   "metadata": {},
   "source": [
    "$$P(\\nu) = \\frac{\\sigma^2 \\tau}{1 + (2\\pi\\nu\\tau)^2}$$"
   ]
  },
  {
   "cell_type": "markdown",
   "metadata": {},
   "source": [
    "where $\\sigma$ is the VarScale, and $\\tau$ is the TimeScale."
   ]
  },
  {
   "cell_type": "code",
   "execution_count": 1,
   "metadata": {
    "collapsed": true
   },
   "outputs": [],
   "source": [
    "%matplotlib inline\n",
    "from matplotlib import pyplot as plt\n",
    "plt.rcParams['figure.figsize'] = (11, 10)"
   ]
  },
  {
   "cell_type": "code",
   "execution_count": 2,
   "metadata": {
    "collapsed": true
   },
   "outputs": [],
   "source": [
    "import os\n",
    "baseDir    = os.getenv(\"PLATO_PROJECT_HOME\")\n",
    "currentDir = os.getcwd()\n",
    "\n",
    "import sys\n",
    "sys.path.append(baseDir + \"/python\")"
   ]
  },
  {
   "cell_type": "code",
   "execution_count": 3,
   "metadata": {
    "collapsed": false
   },
   "outputs": [
    {
     "data": {
      "text/plain": [
       "(0.03, 5)"
      ]
     },
     "execution_count": 3,
     "metadata": {},
     "output_type": "execute_result"
    },
    {
     "data": {
      "image/png": "[encoded data removed]",
      "text/plain": [
       "<matplotlib.figure.Figure at 0x10e190c10>"
      ]
     },
     "metadata": {},
     "output_type": "display_data"
    }
   ],
   "source": [
    "from numpy import *\n",
    "from matplotlib import pyplot as plt\n",
    "import noise\n",
    "freq = linspace(1.0, 1500.0, 200)                                                   # [Ms]\n",
    "plt.loglog(freq, noise.rednoiseModel(freq, [200e-6], [ 50.0]), c=\"b\", linewidth=2)  # Tau = 200s [Ms], Sigma = 50 ppm\n",
    "plt.loglog(freq, noise.rednoiseModel(freq, [400e-6], [ 34.5]), c=\"r\", linewidth=2)  # Tau = 400s [Ms], Sigma = 34 ppm\n",
    "plt.loglog(freq, noise.rednoiseModel(freq, [200e-6], [100.0]), c=\"g\", linewidth=2)  # Tau = 200s [Ms], Sigma = 100 ppm\n",
    "plt.grid(True, which='minor', axis='both', linestyle='-', color='gray')\n",
    "plt.xlim(1.0, 1500)\n",
    "plt.ylim(0.03, 5)"
   ]
  },
  {
   "cell_type": "markdown",
   "metadata": {},
   "source": [
    "## Telescope Parameters"
   ]
  },
  {
   "cell_type": "markdown",
   "metadata": {},
   "source": [
    "Telescope:\n",
    "    \n",
    "    AzimuthAngle:                0.0             # Azimuth angle of telescope on the platform [deg]\n",
    "    TiltAngle:                   0.0             # Tilt angle of the telescope on the platform [deg]\n",
    "    LightCollectingArea:         113.1           # Effective area of 1 telescope [cm^2]\n",
    "    TransmissionEfficiency:      0.757           # in [0,1]\n",
    "    UseDrift:                    no              # yes or no. If no, ignore everything below.\n",
    "    UseDriftFromFile:            no              # yes or no. If yes: ignore RMS and timescale below\n",
    "    DriftYawRms:                 2.0             # RMS of thermo-elastic drift in yaw [arcsec]\n",
    "    DriftPitchRms:               2.0             # RMS of thermo-elastic drift in pitch [arcsec]\n",
    "    DriftRollRms:                2.0             # RMS of thermo-elastic drift in roll [arcsec]\n",
    "    DriftTimeScale:              86400.          # Timescale of thermo-elastic drift [s]\n",
    "    DriftFileName:               inputfiles/drift.txt"
   ]
  },
  {
   "cell_type": "markdown",
   "metadata": {},
   "source": [
    "#### Tilt & Azimuth\n",
    "\n",
    "The telescope pointing (i.e. optical axis) can be derived from the platform pointing, and the tilt and azimuth angle."
   ]
  },
  {
   "cell_type": "markdown",
   "metadata": {},
   "source": [
    "<img src=\"tiltAzimuth.png\">"
   ]
  },
  {
   "cell_type": "markdown",
   "metadata": {},
   "source": [
    "#### Drift"
   ]
  },
  {
   "cell_type": "markdown",
   "metadata": {},
   "source": [
    "Thermo-elastic instability of the telescope on the platform.\n",
    "\n",
    "Similar to telescope jitter:\n",
    "- from file\n",
    "- drift parameters"
   ]
  },
  {
   "cell_type": "markdown",
   "metadata": {},
   "source": [
    "## Camera Parameters"
   ]
  },
  {
   "cell_type": "markdown",
   "metadata": {},
   "source": [
    "Camera:\n",
    "    \n",
    "    FocalPlaneOrientation:       0.0             # Focal-plane orientation [degrees]\n",
    "    PlateScale:                  0.8333          # Plate scale [arcsec/micron]\n",
    "    FocalLength:                 0.24712595      # Focal length as recovered from ZEMAX model [m]\n",
    "    ThroughputBandwidth:         400             # FWHM [nm]\n",
    "    ThroughputLambdaC:           600             # Central wavelength of the throughput passband [nm]\n",
    "    IncludeFieldDistortion:      yes             # Wheter or not to include field distortion\n",
    "    FieldDistortion:                             # Describe the model for the field distortion\n",
    "        Type:                    Polynomial1D\n",
    "        Degree:                  3\n",
    "        Coefficients:            [-0.0036696919678, 1.0008542317, -4.12553764817e-05, 5.7201219949e-06]\n",
    "        InverseCoefficients:     [-0.00458067036444, 1.00110311283, -5.61136295937e-05, -4.311925329e-06]"
   ]
  },
  {
   "cell_type": "markdown",
   "metadata": {},
   "source": [
    "#### Focal-Plane Orientation"
   ]
  },
  {
   "cell_type": "markdown",
   "metadata": {},
   "source": [
    "<img src=\"FocalPlaneCoordinateSystem.png\">"
   ]
  },
  {
   "cell_type": "markdown",
   "metadata": {},
   "source": [
    "#### Field Distortion\n",
    "\n",
    "Image magnification increases with distance from the optical axis of the telescope.\n",
    "\n",
    "- as 1D polynomial:\n",
    "\n",
    "$$P(x) = c_{0} + c_{1} \\cdot x + c_{2} \\cdot x^{2} + ... + c_{n} \\cdot x^{n}$$\n",
    "\n",
    "- as 2D polynomial:\n",
    "\n",
    "$$P(x, y) = c_{00} + c_{10} \\cdot x + ... + c_{n0} \\cdot x^{n} + c_{01} \\cdot y      + ... + c_{0n} \\cdot y^{n} + c_{11} \\cdot x \\cdot y + c_{12} \\cdot x \\cdot y^{2}      + ... + c_{1(n - 1)} \\cdot x \\cdot y^{n - 1} + ... + c_{(n - 1)1} \\cdot x^{n - 1} \\cdot y$$"
   ]
  },
  {
   "cell_type": "markdown",
   "metadata": {},
   "source": [
    "## PSF Parameters\n",
    "\n",
    "PSF:\n",
    "\n",
    "    Model:              Gaussian        # Select the model to be used for the PSF [Gaussian, FromFile]\n",
    "    Gaussian:                           # Generate the PSF from a 2D Gaussian function\n",
    "      Sigma:            0.50            # Standard deviation of Gaussian PSF [pixels]\n",
    "      NumberOfPixels:   8               # The number of pixels in the field for which the PSF is generated\n",
    "    FromFile:                           # Read a pre-calculated PSF from an HDF5 file\n",
    "      Filename:         inputfiles/psf.hdf5 \n",
    "      DistanceToOA:     -1              # Angular distance to the optical axis. -1 to auto-compute. [deg]\n",
    "      RotationAngle:    -1              # Rotation angle w.r.t the focal-plane x-axis. -1 to auto-compute. [deg]\n",
    "      NumberOfPixels:   8               # The number of pixels in the field for which the PSF is generated"
   ]
  },
  {
   "cell_type": "markdown",
   "metadata": {},
   "source": [
    "#### Pre-Computed PSF\n",
    "\n",
    "Download from the FTP-server."
   ]
  },
  {
   "cell_type": "markdown",
   "metadata": {},
   "source": [
    "## CCD Parameters"
   ]
  },
  {
   "cell_type": "markdown",
   "metadata": {},
   "source": [
    "CCD:\n",
    "\n",
    "    OriginOffsetX:               0               # X Offset of CCD origin from center of focal plane [mm]\n",
    "    OriginOffsetY:               0               # Y Offset of CCD origin from center of focal plane [mm]\n",
    "    Orientation:                 0               # Orientation of CCD w.r.t. focal plane orientation [deg]\n",
    "    NumColumns:                  4510            # Number of columns [pixels]\n",
    "    NumRows:                     4510            # Number of rows [pixels]\n",
    "    PixelSize:                   18              # Pi[micron]\n",
    "    Gain:                        16              # [e-/ADU]\n",
    "    QuantumEfficiency:           0.8745          # in [0,1]\n",
    "    FullWellSaturation:          1000000         # Readout noise [e-/pixel]\n",
    "    DigitalSaturation:           65535           # E.g. 16 bit [ADU/pixel]\n",
    "    ReadoutNoise:                28              # [e-/pixel]\n",
    "    ElectronicOffset:            100             # bias [ADU]\n",
    "    ReadoutTime:                 2               # time to read out entire CCD [s]\n",
    "    FlatfieldPtPNoise:           0.016           # peak-to-peak pixel noise\n",
    "    CTI:\n",
    "      Model:                     Simple\n",
    "      Simple:\n",
    "            MeanCTE:                     0.99999         # Mean Charge Transfer Efficiency\n",
    "      Short2013:\n",
    "            Beta:                    0.37                # beta exponent in Short et al. (2013)\n",
    "            Temperature:             203.                # [K]\n",
    "            NumTrapSpecies:          4                   # number of different trap species\n",
    "            TrapDensity:             [9.8, 3.31, 1.56, 13.24]                   # for each trap species [traps/pixel]\n",
    "            TrapCaptureCrossSection: [2.46e-20, 1.74e-22, 7.05e-23, 2.45e-23]     # for each trap species [m^2]\n",
    "            ReleaseTime:             [2.37e-4, 2.43e-2, 2.03e-3, 1.40e-1]         # for each trap species [s]\n",
    "   \n",
    "    IncludeFlatfield:            yes             # Include flatfield [yes or no]\n",
    "    IncludePhotonNoise:          yes             # Include photon noise [yes or no]\n",
    "    IncludeReadoutNoise:         yes             # Include readout noise [yes or no]\n",
    "    IncludeCTIeffects:           yes             # Include charge transfer inefficiency effects [yes or no]\n",
    "    IncludeOpenShutterSmearing:  yes             # Include trails due reading out with an open shutter [yes or no]\n",
    "    IncludeVignetting:           yes             # Include brightness attenuation towards the edge of the FOV\n",
    "    IncludeConvolution:          yes             # Wheter or not to convolve the subPixelMap with the PSF\n",
    "    IncludeFullWellSaturation:   yes             # Wheter or not full well saturation should be applied\n",
    "    IncludeDigitalSaturation:    yes             # Whether or not digital saturation should be applied\n",
    "    WriteSubPixelImagesToHDF5:   no              # Only use this for a limited number of exposures"
   ]
  },
  {
   "cell_type": "markdown",
   "metadata": {},
   "source": [
    "#### CCD Reference Frame\n",
    "<img src=\"FocalPlaneCoordinateSystem.png\">"
   ]
  },
  {
   "cell_type": "markdown",
   "metadata": {},
   "source": [
    "#### Quantum Efficiency\n",
    "\n",
    "Ratio of the number of collected electrons to the number of incident photons.\n",
    "\n",
    "\n",
    "#### Gain\n",
    "\n",
    "Relates the number of electrons per pixels to the number of ADUs.\n",
    "\n",
    "#### Saturation\n",
    "\n",
    "##### Full-Well Saturation (Blooming)\n",
    "\n",
    "Excess electrons get transferred up and down to other pixels in the same column.\n",
    "\n",
    "##### Digital Saturation\n",
    "\n",
    "Pixel values topped off at given saturation limit.\n",
    "\n",
    "#### Readout Noise\n",
    "\n",
    "Occurs due to the imperfect nature of the CCD amplifiers. When the electrons are transferred to the amplifier, the induced voltage is measured. However, this measurement is not perfect, but gives a value which is on average too high by an amount of the readout noise, with the squareroot of the readout noise as standard deviation.\n",
    "\n",
    "#### Flatfield\n",
    "Accounts for the differences in sensitivity across the detector (1/f spatial distribution).\n",
    "\n",
    "#### CTI Effects\n",
    "\n",
    "Because of detector defects, electrons can get trapped in the readout process. The trapped charge ends up getting dissociated from its original pixel and eventually gets released into another pixel. The result is that the original image gets smeared out in the direction away from the readout amplifier (visible in the appearance of \"charge trails\"). This is known as imperfect CTE (Charge-Transfer Efficiency) or alternatively as CTI (Charge-Transfer Inefficiency). The fraction of the charge that is successfully transferred from one row to the next row is expressed by this parameter.\n",
    "\n",
    "#### Photon noise\n",
    "\n",
    "Due to the discrete/quantised nature of the electronic charge carried by the e- (when counting them as representatives of photons hitting the detectors).  Implemented as Poisson distribution with the pixel value as mean (each pixel is treated independently)."
   ]
  },
  {
   "cell_type": "markdown",
   "metadata": {},
   "source": [
    "## Sub-field Parameters"
   ]
  },
  {
   "cell_type": "markdown",
   "metadata": {},
   "source": [
    "SubField:\n",
    "\n",
    "    ZeroPointRow:                0               # Row of the (0,0) pixel of the sub-field [pixels]\n",
    "    ZeroPointColumn:             0               # Column of the (0,0) pixel of the sub-field [pixels]\n",
    "    NumColumns:                  100             # Number of columns, should be >= 8 [pixels]\n",
    "    NumRows:                     100             # Number of rows, should be >= 8 [pixels]\n",
    "    NumBiasPrescanRows:          5               # Nr of rows in pre-scan strip to determine the bias [pixels]\n",
    "    NumSmearingOverscanRows:     5               # Nr rows in over-scan strip to determine the smearing [pixels]\n",
    "    SubPixels:                   8               # (Sqrt of) nr of subpixels per CCD pixel. Should be 2^n <= 128."
   ]
  },
  {
   "cell_type": "markdown",
   "metadata": {},
   "source": [
    "## Random Seeds\n",
    "\n",
    "RandomSeeds:\n",
    "\n",
    "    ReadOutNoiseSeed:            1424949740\n",
    "    PhotonNoiseSeed:             1433320336\n",
    "    JitterSeed:                  1433320381\n",
    "    FlatFieldSeed:               1425284070\n",
    "    CTESeed:                     1424949740\n",
    "    DriftSeed:                   1433429158"
   ]
  }
 ],
 "metadata": {
  "kernelspec": {
   "display_name": "Python 2",
   "language": "python",
   "name": "python2"
  },
  "language_info": {
   "codemirror_mode": {
    "name": "ipython",
    "version": 2
   },
   "file_extension": ".py",
   "mimetype": "text/x-python",
   "name": "python",
   "nbconvert_exporter": "python",
   "pygments_lexer": "ipython2",
   "version": "2.7.12"
  }
 },
 "nbformat": 4,
 "nbformat_minor": 0
}
